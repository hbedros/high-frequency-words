{
 "cells": [
  {
   "cell_type": "markdown",
   "metadata": {},
   "source": [
    "# High Frequency Words\n",
    "### Team: The p < 0.05 Team - Haig Bedros, Noori Selina, Julia Ferris, Matthew Roland\n",
    "\n",
    "Please answer the following questions in an IPython Notebook, posted to GitHub.\n",
    "\n",
    "1. **Choose a corpus of interest.**\n",
    "\n",
    "2. **How many total unique words are in the corpus?**\n",
    "   - Please feel free to define unique words in any interesting, defensible way.\n",
    "\n",
    "3. **Taking the most common words, how many unique words represent half of the total words in the corpus?**\n",
    "\n",
    "4. **Identify the 200 highest frequency words in this corpus.**\n",
    "\n",
    "5. **Create a graph that shows the relative frequency of these 200 words.**\n",
    "\n",
    "6. **Does the observed relative frequency of these words follow Zipf’s law? Explain.**\n",
    "\n",
    "7. **In what ways do you think the frequency of the words in this corpus differ from “all words in all corpora”?**\n"
   ]
  },
  {
   "cell_type": "code",
   "execution_count": null,
   "metadata": {},
   "outputs": [],
   "source": []
  }
 ],
 "metadata": {
  "language_info": {
   "name": "python"
  }
 },
 "nbformat": 4,
 "nbformat_minor": 2
}
